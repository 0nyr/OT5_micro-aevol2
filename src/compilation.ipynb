{
 "cells": [
  {
   "cell_type": "markdown",
   "metadata": {},
   "source": [
    "# Compiling the different versions of Micro-Aevol 2"
   ]
  },
  {
   "cell_type": "code",
   "execution_count": 1,
   "metadata": {},
   "outputs": [
    {
     "name": "stdout",
     "output_type": "stream",
     "text": [
      "Kokkos_DIR=/home/onyr/Kokkos/kokkos_install/lib/cmake/Kokkos\n",
      "/home/onyr/Kokkos/kokkos_install\n"
     ]
    }
   ],
   "source": [
    "import os\n",
    "import subprocess\n",
    "\n",
    "KOKKOS_LIB_CMAKE = \"Kokkos_DIR={0}/lib/cmake/Kokkos\".format(os.environ.get(\"KOKKOS_INSTALL_DIR\"))\n",
    "print(KOKKOS_LIB_CMAKE)\n",
    "print(os.getenv(\"KOKKOS_INSTALL_DIR\"))"
   ]
  },
  {
   "cell_type": "code",
   "execution_count": 2,
   "metadata": {},
   "outputs": [
    {
     "name": "stdout",
     "output_type": "stream",
     "text": [
      "['aevol_0']\n"
     ]
    }
   ],
   "source": [
    "# parameters\n",
    "\n",
    "experiment_params = {\n",
    "    \"dna_sizes\": [500, 5000, 50000], # size of DNA\n",
    "    \"mutation_rates\": [0.0001, 0.00001, 0.000001], # mutation rate\n",
    "    \"world_sizes\": [32, 64, 128, 256, 1024], # size of the world\n",
    "}\n",
    "\n",
    "# get project names from dirs in ./aevols directory\n",
    "project_names = [d for d in os.listdir(\"./aevols\") if os.path.isdir(os.path.join(\"./aevols\", d))]\n",
    "print(project_names)"
   ]
  },
  {
   "cell_type": "markdown",
   "metadata": {},
   "source": [
    "## Compiling & Run executables"
   ]
  },
  {
   "cell_type": "code",
   "execution_count": 22,
   "metadata": {},
   "outputs": [
    {
     "name": "stdout",
     "output_type": "stream",
     "text": [
      "build directory already exists\n",
      "removing previous build directory\n",
      "-- The C compiler identification is GNU 11.3.0\n",
      "-- The CXX compiler identification is GNU 11.3.0\n",
      "-- Detecting C compiler ABI info\n",
      "-- Detecting C compiler ABI info - done\n",
      "-- Check for working C compiler: /usr/bin/cc - skipped\n",
      "-- Detecting C compile features\n",
      "-- Detecting C compile features - done\n",
      "-- Detecting CXX compiler ABI info\n",
      "-- Detecting CXX compiler ABI info - done\n",
      "-- Check for working CXX compiler: /usr/bin/c++ - skipped\n",
      "-- Detecting CXX compile features\n",
      "-- Detecting CXX compile features - done\n"
     ]
    },
    {
     "name": "stderr",
     "output_type": "stream",
     "text": [
      "CMAKE_PREFIX_PATH = /home/onyr/Kokkos/kokkos_install:/home/onyr/Kokkos/kokkos_install/lib/CMake/Kokkos:/home/onyr/Kokkos/kokkos_install/lib/cmake/Kokkos\n",
      "CMake Warning at /home/onyr/Kokkos/kokkos_install/lib/cmake/Kokkos/KokkosConfigCommon.cmake:35 (MESSAGE):\n",
      "  The installed Kokkos configuration does not support CXX extensions.\n",
      "  Forcing -DCMAKE_CXX_EXTENSIONS=Off\n",
      "Call Stack (most recent call first):\n",
      "  /home/onyr/Kokkos/kokkos_install/lib/cmake/Kokkos/KokkosConfig.cmake:56 (INCLUDE)\n",
      "  CMakeLists.txt:44 (find_package)\n",
      "\n",
      "\n"
     ]
    },
    {
     "name": "stdout",
     "output_type": "stream",
     "text": [
      "-- Found ZLIB: /usr/lib/x86_64-linux-gnu/libz.so (found version \"1.2.11\") \n",
      "-- Enabled Kokkos devices: OPENMP;CUDA;SERIAL\n",
      "-- kokkos_launch_compiler is enabled globally. C++ compiler commands with -DKOKKOS_DEPENDENCE will be redirected to the appropriate compiler for Kokkos\n",
      "-- Configuring done\n",
      "-- Generating done\n",
      "-- Build files have been written to: /home/onyr/Documents/code/OT5_micro-aevol2/src/aevols/aevol_0/build\n",
      "make: Entering directory '/home/onyr/Documents/code/OT5_micro-aevol2/src/aevols/aevol_0/build'\n",
      "make[1]: Entering directory '/home/onyr/Documents/code/OT5_micro-aevol2/src/aevols/aevol_0/build'\n",
      "make[2]: Entering directory '/home/onyr/Documents/code/OT5_micro-aevol2/src/aevols/aevol_0/build'\n",
      "make[2]: Leaving directory '/home/onyr/Documents/code/OT5_micro-aevol2/src/aevols/aevol_0/build'\n",
      "make[2]: Entering directory '/home/onyr/Documents/code/OT5_micro-aevol2/src/aevols/aevol_0/build'\n",
      "[  8%] Building CXX object CMakeFiles/micro_aevol.dir/Abstract_ExpManager.cpp.o\n",
      "[ 16%] Building CXX object CMakeFiles/micro_aevol.dir/ExpManager.cpp.o\n",
      "[ 25%] Building CXX object CMakeFiles/micro_aevol.dir/AeTime.cpp.o\n",
      "[ 33%] Building CXX object CMakeFiles/micro_aevol.dir/DnaMutator.cpp.o\n",
      "[ 41%] Building CXX object CMakeFiles/micro_aevol.dir/MutationEvent.cpp.o\n",
      "[ 50%] Building CXX object CMakeFiles/micro_aevol.dir/Organism.cpp.o\n",
      "[ 58%] Building CXX object CMakeFiles/micro_aevol.dir/Stats.cpp.o\n",
      "[ 66%] Building CXX object CMakeFiles/micro_aevol.dir/Threefry.cpp.o\n",
      "[ 75%] Building CXX object CMakeFiles/micro_aevol.dir/Dna.cpp.o\n"
     ]
    },
    {
     "name": "stderr",
     "output_type": "stream",
     "text": [
      "/home/onyr/Documents/code/OT5_micro-aevol2/src/aevols/aevol_0/Dna.cpp(86): warning #177-D: variable \"duplicate_segment\" was declared but never referenced\n",
      "\n",
      "/home/onyr/Documents/code/OT5_micro-aevol2/src/aevols/aevol_0/Dna.cpp(88): warning #177-D: variable \"seg_length\" was declared but never referenced\n",
      "\n"
     ]
    },
    {
     "name": "stdout",
     "output_type": "stream",
     "text": [
      "[ 83%] Linking CXX static library libmicro_aevol.a\n",
      "make[2]: Leaving directory '/home/onyr/Documents/code/OT5_micro-aevol2/src/aevols/aevol_0/build'\n",
      "[ 83%] Built target micro_aevol\n",
      "make[2]: Entering directory '/home/onyr/Documents/code/OT5_micro-aevol2/src/aevols/aevol_0/build'\n",
      "make[2]: Leaving directory '/home/onyr/Documents/code/OT5_micro-aevol2/src/aevols/aevol_0/build'\n",
      "make[2]: Entering directory '/home/onyr/Documents/code/OT5_micro-aevol2/src/aevols/aevol_0/build'\n",
      "[ 91%] Building CXX object CMakeFiles/micro_aevol_kokkos.dir/main.cpp.o\n",
      "[100%] Linking CXX executable micro_aevol_kokkos\n",
      "make[2]: Leaving directory '/home/onyr/Documents/code/OT5_micro-aevol2/src/aevols/aevol_0/build'\n",
      "make[1]: Leaving directory '/home/onyr/Documents/code/OT5_micro-aevol2/src/aevols/aevol_0/build'\n",
      "make: Leaving directory '/home/onyr/Documents/code/OT5_micro-aevol2/src/aevols/aevol_0/build'\n"
     ]
    },
    {
     "name": "stderr",
     "output_type": "stream",
     "text": [
      "/usr/bin/ld: CMakeFiles/micro_aevol_kokkos.dir/main.cpp.o: in function `main':\n",
      "main.cpp:(.text+0x4d9): undefined reference to `ExpManager::ExpManager(int, int, int, double, int, int)'\n",
      "/usr/bin/ld: main.cpp:(.text+0x508): undefined reference to `ExpManager::ExpManager(int)'\n",
      "collect2: error: ld returned 1 exit status\n",
      "make[2]: *** [CMakeFiles/micro_aevol_kokkos.dir/build.make:97: micro_aevol_kokkos] Error 1\n",
      "make[1]: *** [CMakeFiles/Makefile2:111: CMakeFiles/micro_aevol_kokkos.dir/all] Error 2\n",
      "make: *** [Makefile:91: all] Error 2\n"
     ]
    }
   ],
   "source": [
    "for project_name in project_names:\n",
    "    # create directory build\n",
    "    build_dir = \"./aevols/\" + project_name + \"/build\"\n",
    "    if not os.path.exists(build_dir):\n",
    "        os.makedirs(build_dir)\n",
    "    else:\n",
    "        print(\"build directory already exists\")\n",
    "        print(\"removing previous build directory\")\n",
    "        subprocess.run([\"rm\", \"-rf\", build_dir])\n",
    "    \n",
    "    # run cmake to generate makefiles\n",
    "    subprocess.run([\"cmake\", \"-B\", f\"./aevols/{project_name}/build\", \"-S\", f\"./aevols/{project_name}\", \"-D\", KOKKOS_LIB_CMAKE])\n",
    "\n",
    "    # run make to compile\n",
    "    subprocess.run([\"make\", \"-C\", f\"./aevols/{project_name}/build\"])\n",
    "\n",
    "    # for dna_size in experiment_params[\"dna_sizes\"]:\n",
    "    #     for mutation_rate in experiment_params[\"mutation_rates\"]:\n",
    "    #         for world_size in experiment_params[\"world_sizes\"]:\n",
    "    #             print(\"Running {} (exec_type: {}) with dna_size={}, mutation_rate={}, world_size={}\".format(project_name, exec_type, dna_size, mutation_rate, world_size))\n",
    "                \n",
    "    #             # run the executable\n",
    "    #             executable_name = \"micro_aevol_cpu\" if (exec_type == \"nameCpu\") else \"micro_aevol_cuda\"\n",
    "    #             params = f\" -w {world_size} -h {world_size} -g {dna_size} -m {mutation_rate}\"\n",
    "    #             subprocess.run([\"./aevols/\" + project_name + \"/build/\" + executable_name, params])"
   ]
  }
 ],
 "metadata": {
  "kernelspec": {
   "display_name": "Python 3.10.6 ('aevol')",
   "language": "python",
   "name": "python3"
  },
  "language_info": {
   "codemirror_mode": {
    "name": "ipython",
    "version": 3
   },
   "file_extension": ".py",
   "mimetype": "text/x-python",
   "name": "python",
   "nbconvert_exporter": "python",
   "pygments_lexer": "ipython3",
   "version": "3.10.6"
  },
  "orig_nbformat": 4,
  "vscode": {
   "interpreter": {
    "hash": "f8ea3645522cf11f29217899e2a80e6ee020ee43b42396f8b0082f79c660ad30"
   }
  }
 },
 "nbformat": 4,
 "nbformat_minor": 2
}
