{
 "cells": [
  {
   "cell_type": "markdown",
   "metadata": {},
   "source": [
    "# Compiling the different versions of Micro-Aevol 2"
   ]
  },
  {
   "cell_type": "code",
   "execution_count": 31,
   "metadata": {},
   "outputs": [
    {
     "name": "stdout",
     "output_type": "stream",
     "text": [
      "Kokkos_DIR=/home/onyr/Kokkos/kokkos_install/lib/cmake/Kokkos\n"
     ]
    }
   ],
   "source": [
    "import os\n",
    "import subprocess\n",
    "\n",
    "KOKKOS_LIB_CMAKE = \"Kokkos_DIR={0}/lib/cmake/Kokkos\".format(os.environ.get(\"KOKKOS_INSTALL_DIR\"))\n",
    "print(KOKKOS_LIB_CMAKE)\n",
    "\n",
    "EXE_NAME = \"micro_aevol_kokkos\""
   ]
  },
  {
   "cell_type": "code",
   "execution_count": 32,
   "metadata": {},
   "outputs": [
    {
     "name": "stdout",
     "output_type": "stream",
     "text": [
      "['aevol_0']\n"
     ]
    }
   ],
   "source": [
    "# parameters\n",
    "\n",
    "experiment_params = {\n",
    "    \"dna_sizes\": [500, 5000, 50000], # size of DNA\n",
    "    \"mutation_rates\": [0.0001, 0.00001, 0.000001], # mutation rate\n",
    "    \"world_sizes\": [32, 64, 128, 256, 1024], # size of the world\n",
    "}\n",
    "\n",
    "# get project names from dirs in ./aevols directory\n",
    "project_names = [d for d in os.listdir(\"./aevols\") if os.path.isdir(os.path.join(\"./aevols\", d))]\n",
    "print(project_names)"
   ]
  },
  {
   "cell_type": "markdown",
   "metadata": {},
   "source": [
    "### Prepare tracing"
   ]
  },
  {
   "cell_type": "code",
   "execution_count": 33,
   "metadata": {},
   "outputs": [],
   "source": [
    "csv_result_file = \"stats.csv\"\n",
    "csv_headers = {\n",
    "    'world_size_width': int,\n",
    "    'world_size_height': int,\n",
    "    'dna_size': int,\n",
    "    'mutation_rate': float,\n",
    "    'nb_generations': int,\n",
    "    'runtime' : float\n",
    "}\n",
    "\n",
    "repeats = 5"
   ]
  },
  {
   "cell_type": "code",
   "execution_count": 48,
   "metadata": {},
   "outputs": [
    {
     "name": "stdout",
     "output_type": "stream",
     "text": [
      "./aevols/aevol_0/stats/ directory already exists\n",
      "removing previous ./aevols/aevol_0/stats/ directory\n",
      "Creating NEW CSV file (./aevols/aevol_0/stats/stats.csv)\n"
     ]
    }
   ],
   "source": [
    "import os\n",
    "import subprocess\n",
    "\n",
    "def create_csv_file(dirpath: str):\n",
    "    filepath = dirpath + csv_result_file\n",
    "    print(f\"Creating NEW CSV file ({filepath})\")\n",
    "    f = open(filepath, \"w\")\n",
    "    f.write(\",\".join(csv_headers.keys()) + \"\\n\")\n",
    "    f.close()\n",
    "\n",
    "def clean_and_mkdir(dirpath: str):\n",
    "    if not os.path.exists(dirpath):\n",
    "        os.makedirs(dirpath)\n",
    "    else:\n",
    "        print(f\"{dirpath} directory already exists\")\n",
    "        print(f\"removing previous {dirpath} directory\")\n",
    "        subprocess.run([\"rm\", \"-rf\", dirpath])\n",
    "        os.makedirs(dirpath)\n",
    "\n",
    "for project_name in project_names:\n",
    "    # create csv file\n",
    "    stats_dir = \"./aevols/\" + project_name + \"/stats/\"\n",
    "    clean_and_mkdir(stats_dir)\n",
    "    create_csv_file(stats_dir)"
   ]
  },
  {
   "cell_type": "markdown",
   "metadata": {},
   "source": [
    "## Compiling & Run executables"
   ]
  },
  {
   "cell_type": "code",
   "execution_count": 49,
   "metadata": {},
   "outputs": [
    {
     "name": "stdout",
     "output_type": "stream",
     "text": [
      "./aevols/aevol_0/build/ directory already exists\n",
      "removing previous ./aevols/aevol_0/build/ directory\n",
      "-- The C compiler identification is GNU 11.3.0\n",
      "-- The CXX compiler identification is GNU 11.3.0\n",
      "-- Detecting C compiler ABI info\n",
      "-- Detecting C compiler ABI info - done\n",
      "-- Check for working C compiler: /usr/bin/cc - skipped\n",
      "-- Detecting C compile features\n",
      "-- Detecting C compile features - done\n",
      "-- Detecting CXX compiler ABI info\n",
      "-- Detecting CXX compiler ABI info - done\n",
      "-- Check for working CXX compiler: /usr/bin/c++ - skipped\n",
      "-- Detecting CXX compile features\n",
      "-- Detecting CXX compile features - done\n",
      "-- Runtime traces are activated\n",
      "-- Found ZLIB: /usr/lib/x86_64-linux-gnu/libz.so (found version \"1.2.11\") \n",
      "-- Enabled Kokkos devices: OPENMP;CUDA;SERIAL\n",
      "-- kokkos_launch_compiler is enabled globally. C++ compiler commands with -DKOKKOS_DEPENDENCE will be redirected to the appropriate compiler for Kokkos\n",
      "-- Configuring done\n",
      "-- Generating done\n",
      "-- Build files have been written to: /home/onyr/Documents/code/OT5_micro-aevol2/src/aevols/aevol_0/build\n",
      "make: Entering directory '/home/onyr/Documents/code/OT5_micro-aevol2/src/aevols/aevol_0/build'\n",
      "make[1]: Entering directory '/home/onyr/Documents/code/OT5_micro-aevol2/src/aevols/aevol_0/build'\n",
      "make[2]: Entering directory '/home/onyr/Documents/code/OT5_micro-aevol2/src/aevols/aevol_0/build'\n",
      "make[2]: Leaving directory '/home/onyr/Documents/code/OT5_micro-aevol2/src/aevols/aevol_0/build'\n",
      "make[2]: Entering directory '/home/onyr/Documents/code/OT5_micro-aevol2/src/aevols/aevol_0/build'\n",
      "[  8%] Building CXX object CMakeFiles/micro_aevol.dir/Abstract_ExpManager.cpp.o\n"
     ]
    },
    {
     "name": "stderr",
     "output_type": "stream",
     "text": [
      "CMAKE_PREFIX_PATH = /home/onyr/Kokkos/kokkos_install:/home/onyr/Kokkos/kokkos_install/lib/CMake/Kokkos:/home/onyr/Kokkos/kokkos_install/lib/cmake/Kokkos\n",
      "CMake Warning at /home/onyr/Kokkos/kokkos_install/lib/cmake/Kokkos/KokkosConfigCommon.cmake:35 (MESSAGE):\n",
      "  The installed Kokkos configuration does not support CXX extensions.\n",
      "  Forcing -DCMAKE_CXX_EXTENSIONS=Off\n",
      "Call Stack (most recent call first):\n",
      "  /home/onyr/Kokkos/kokkos_install/lib/cmake/Kokkos/KokkosConfig.cmake:56 (INCLUDE)\n",
      "  CMakeLists.txt:33 (find_package)\n",
      "\n",
      "\n",
      "Done. micro_aevol_kokkos is ready to be executed.\n"
     ]
    },
    {
     "name": "stdout",
     "output_type": "stream",
     "text": [
      "[ 16%] Building CXX object CMakeFiles/micro_aevol.dir/ExpManager.cpp.o\n",
      "[ 25%] Building CXX object CMakeFiles/micro_aevol.dir/AeTime.cpp.o\n",
      "[ 33%] Building CXX object CMakeFiles/micro_aevol.dir/DnaMutator.cpp.o\n",
      "[ 41%] Building CXX object CMakeFiles/micro_aevol.dir/MutationEvent.cpp.o\n",
      "[ 50%] Building CXX object CMakeFiles/micro_aevol.dir/Organism.cpp.o\n",
      "[ 58%] Building CXX object CMakeFiles/micro_aevol.dir/Stats.cpp.o\n",
      "[ 66%] Building CXX object CMakeFiles/micro_aevol.dir/Threefry.cpp.o\n",
      "[ 75%] Building CXX object CMakeFiles/micro_aevol.dir/Dna.cpp.o\n"
     ]
    },
    {
     "name": "stderr",
     "output_type": "stream",
     "text": [
      "/home/onyr/Documents/code/OT5_micro-aevol2/src/aevols/aevol_0/Dna.cpp(86): warning #177-D: variable \"duplicate_segment\" was declared but never referenced\n",
      "\n",
      "/home/onyr/Documents/code/OT5_micro-aevol2/src/aevols/aevol_0/Dna.cpp(88): warning #177-D: variable \"seg_length\" was declared but never referenced\n",
      "\n"
     ]
    },
    {
     "name": "stdout",
     "output_type": "stream",
     "text": [
      "[ 83%] Linking CXX static library libmicro_aevol.a\n",
      "make[2]: Leaving directory '/home/onyr/Documents/code/OT5_micro-aevol2/src/aevols/aevol_0/build'\n",
      "[ 83%] Built target micro_aevol\n",
      "make[2]: Entering directory '/home/onyr/Documents/code/OT5_micro-aevol2/src/aevols/aevol_0/build'\n",
      "make[2]: Leaving directory '/home/onyr/Documents/code/OT5_micro-aevol2/src/aevols/aevol_0/build'\n",
      "make[2]: Entering directory '/home/onyr/Documents/code/OT5_micro-aevol2/src/aevols/aevol_0/build'\n",
      "[ 91%] Building CXX object CMakeFiles/micro_aevol_kokkos.dir/main.cpp.o\n",
      "[100%] Linking CXX executable micro_aevol_kokkos\n",
      "make[2]: Leaving directory '/home/onyr/Documents/code/OT5_micro-aevol2/src/aevols/aevol_0/build'\n",
      "[100%] Built target micro_aevol_kokkos\n",
      "make[1]: Leaving directory '/home/onyr/Documents/code/OT5_micro-aevol2/src/aevols/aevol_0/build'\n",
      "make: Leaving directory '/home/onyr/Documents/code/OT5_micro-aevol2/src/aevols/aevol_0/build'\n"
     ]
    }
   ],
   "source": [
    "# compile\n",
    "for project_name in project_names:\n",
    "    # create directory build & \n",
    "    # stats, create csv file\n",
    "    build_dir = \"./aevols/\" + project_name + \"/build/\"\n",
    "    clean_and_mkdir(build_dir)\n",
    "    \n",
    "    # run cmake to generate makefiles\n",
    "    subprocess.run([\"cmake\", \"-B\", f\"./aevols/{project_name}/build\", \"-S\", f\"./aevols/{project_name}\", \"-D\", KOKKOS_LIB_CMAKE])\n",
    "\n",
    "    # run make to compile\n",
    "    subprocess.run([\"make\", \"-C\", f\"./aevols/{project_name}/build\"])"
   ]
  },
  {
   "cell_type": "code",
   "execution_count": 50,
   "metadata": {},
   "outputs": [
    {
     "name": "stdout",
     "output_type": "stream",
     "text": [
      "Running aevol_0 with dna_size=500, mutation_rate=0.0001, world_size=32\n",
      "Running aevol_0 with dna_size=500, mutation_rate=0.0001, world_size=64\n",
      "Running aevol_0 with dna_size=500, mutation_rate=0.0001, world_size=128\n",
      "Running aevol_0 with dna_size=500, mutation_rate=0.0001, world_size=256\n",
      "Running aevol_0 with dna_size=500, mutation_rate=0.0001, world_size=1024\n"
     ]
    }
   ],
   "source": [
    "# execute\n",
    "run_once = False\n",
    "for project_name in project_names:\n",
    "    for dna_size in experiment_params[\"dna_sizes\"]:\n",
    "        for mutation_rate in experiment_params[\"mutation_rates\"]:\n",
    "            for world_size in experiment_params[\"world_sizes\"]:\n",
    "                print(\"Running {} with dna_size={}, mutation_rate={}, world_size={}\".format(project_name, dna_size, mutation_rate, world_size))\n",
    "                \n",
    "                # run the executable\n",
    "                current_dir = os.getcwd()\n",
    "                program_filepath = current_dir + \"/aevols/\" + project_name + \"/build/\" + EXE_NAME\n",
    "                args = (program_filepath, \n",
    "                    \"-w\", str(world_size), \n",
    "                    \"-h\", str(world_size),\n",
    "                    \"-g\", str(dna_size),\n",
    "                    \"-m\", str(mutation_rate),\n",
    "                )\n",
    "                popen = subprocess.Popen(args, stdout=subprocess.PIPE)\n",
    "                popen.wait()\n",
    "\n",
    "                # run once only\n",
    "                if run_once:\n",
    "                    break\n",
    "            if run_once:\n",
    "                break\n",
    "        if run_once:\n",
    "            break\n",
    "    if run_once:\n",
    "        break"
   ]
  }
 ],
 "metadata": {
  "kernelspec": {
   "display_name": "Python 3.10.6 ('aevol')",
   "language": "python",
   "name": "python3"
  },
  "language_info": {
   "codemirror_mode": {
    "name": "ipython",
    "version": 3
   },
   "file_extension": ".py",
   "mimetype": "text/x-python",
   "name": "python",
   "nbconvert_exporter": "python",
   "pygments_lexer": "ipython3",
   "version": "3.10.6"
  },
  "orig_nbformat": 4,
  "vscode": {
   "interpreter": {
    "hash": "f8ea3645522cf11f29217899e2a80e6ee020ee43b42396f8b0082f79c660ad30"
   }
  }
 },
 "nbformat": 4,
 "nbformat_minor": 2
}
