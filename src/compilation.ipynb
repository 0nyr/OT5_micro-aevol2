{
 "cells": [
  {
   "cell_type": "markdown",
   "metadata": {},
   "source": [
    "# Compiling the different versions of Micro-Aevol 2"
   ]
  },
  {
   "cell_type": "code",
   "execution_count": 1,
   "metadata": {},
   "outputs": [],
   "source": [
    "import os\n",
    "import subprocess"
   ]
  },
  {
   "cell_type": "code",
   "execution_count": 2,
   "metadata": {},
   "outputs": [
    {
     "name": "stdout",
     "output_type": "stream",
     "text": [
      "['aevol_0']\n"
     ]
    }
   ],
   "source": [
    "# parameters\n",
    "\n",
    "experiment_params = {\n",
    "    \"dna_sizes\": [500, 5000, 50000], # size of DNA\n",
    "    \"mutation_rates\": [0.0001, 0.00001, 0.000001], # mutation rate\n",
    "    \"world_sizes\": [32, 64, 128, 256, 1024], # size of the world\n",
    "}\n",
    "\n",
    "# get project names from dirs in ./aevols directory\n",
    "project_names = [d for d in os.listdir(\"./aevols\") if os.path.isdir(os.path.join(\"./aevols\", d))]\n",
    "print(project_names)"
   ]
  },
  {
   "cell_type": "markdown",
   "metadata": {},
   "source": [
    "## Compiling & Run executables"
   ]
  },
  {
   "cell_type": "code",
   "execution_count": 10,
   "metadata": {},
   "outputs": [
    {
     "name": "stdout",
     "output_type": "stream",
     "text": [
      "build directory already exists\n",
      "removing previous build directory\n",
      "-- The C compiler identification is GNU 11.3.0\n",
      "-- The CXX compiler identification is GNU 11.3.0\n",
      "-- Detecting C compiler ABI info\n",
      "-- Detecting C compiler ABI info - done\n",
      "-- Check for working C compiler: /usr/bin/cc - skipped\n",
      "-- Detecting C compile features\n",
      "-- Detecting C compile features - done\n",
      "-- Detecting CXX compiler ABI info\n",
      "-- Detecting CXX compiler ABI info - done\n",
      "-- Check for working CXX compiler: /usr/bin/c++ - skipped\n",
      "-- Detecting CXX compile features\n",
      "-- Detecting CXX compile features - done\n",
      "-- Configuring incomplete, errors occurred!\n",
      "See also \"/home/onyr/Documents/code/OT5_micro-aevol2/src/aevols/aevol_0/build/CMakeFiles/CMakeOutput.log\".\n"
     ]
    },
    {
     "name": "stderr",
     "output_type": "stream",
     "text": [
      "CMake Error at CMakeLists.txt:21 (find_package):\n",
      "  By not providing \"FindKokkos.cmake\" in CMAKE_MODULE_PATH this project has\n",
      "  asked CMake to find a package configuration file provided by \"Kokkos\", but\n",
      "  CMake did not find one.\n",
      "\n",
      "  Could not find a package configuration file provided by \"Kokkos\" with any\n",
      "  of the following names:\n",
      "\n",
      "    KokkosConfig.cmake\n",
      "    kokkos-config.cmake\n",
      "\n",
      "  Add the installation prefix of \"Kokkos\" to CMAKE_PREFIX_PATH or set\n",
      "  \"Kokkos_DIR\" to a directory containing one of the above files.  If \"Kokkos\"\n",
      "  provides a separate development package or SDK, be sure it has been\n",
      "  installed.\n",
      "\n",
      "\n"
     ]
    }
   ],
   "source": [
    "KOKKOS_LIB_CMAKE = \"Kokkos_DIR=/home/onyr/Kokkos/kokkos_install/lib/cmake/Kokkos\"\n",
    "\n",
    "for project_name in project_names:\n",
    "    # create directory build\n",
    "    build_dir = \"./aevols/\" + project_name + \"/build\"\n",
    "    if not os.path.exists(build_dir):\n",
    "        os.makedirs(build_dir)\n",
    "    else:\n",
    "        print(\"build directory already exists\")\n",
    "        print(\"removing previous build directory\")\n",
    "        subprocess.run([\"rm\", \"-rf\", build_dir])\n",
    "    \n",
    "    # run cmake to generate makefiles\n",
    "    subprocess.run([\"cmake\", \"-B\", f\"./aevols/{project_name}/build\", \"-S\", f\"./aevols/{project_name}\", \"-D\", KOKKOS_LIB_CMAKE])\n",
    "\n",
    "    # # run make to compile\n",
    "    # subprocess.run([\"make\", \"-C\", f\"./aevols/{project_name}/build\"])\n",
    "\n",
    "    # for dna_size in experiment_params[\"dna_sizes\"]:\n",
    "    #     for mutation_rate in experiment_params[\"mutation_rates\"]:\n",
    "    #         for world_size in experiment_params[\"world_sizes\"]:\n",
    "    #             print(\"Running {} (exec_type: {}) with dna_size={}, mutation_rate={}, world_size={}\".format(project_name, exec_type, dna_size, mutation_rate, world_size))\n",
    "                \n",
    "    #             # run the executable\n",
    "    #             executable_name = \"micro_aevol_cpu\" if (exec_type == \"nameCpu\") else \"micro_aevol_cuda\"\n",
    "    #             params = f\" -w {world_size} -h {world_size} -g {dna_size} -m {mutation_rate}\"\n",
    "    #             subprocess.run([\"./aevols/\" + project_name + \"/build/\" + executable_name, params])"
   ]
  }
 ],
 "metadata": {
  "kernelspec": {
   "display_name": "Python 3.10.6 ('aevol')",
   "language": "python",
   "name": "python3"
  },
  "language_info": {
   "codemirror_mode": {
    "name": "ipython",
    "version": 3
   },
   "file_extension": ".py",
   "mimetype": "text/x-python",
   "name": "python",
   "nbconvert_exporter": "python",
   "pygments_lexer": "ipython3",
   "version": "3.10.6"
  },
  "orig_nbformat": 4,
  "vscode": {
   "interpreter": {
    "hash": "f8ea3645522cf11f29217899e2a80e6ee020ee43b42396f8b0082f79c660ad30"
   }
  }
 },
 "nbformat": 4,
 "nbformat_minor": 2
}
