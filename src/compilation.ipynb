{
 "cells": [
  {
   "cell_type": "markdown",
   "metadata": {},
   "source": [
    "# Compiling the different versions of Micro-Aevol 2"
   ]
  },
  {
   "cell_type": "code",
   "execution_count": 2,
   "metadata": {},
   "outputs": [
    {
     "name": "stdout",
     "output_type": "stream",
     "text": [
      "Kokkos_DIR=/home/onyr/Kokkos/kokkos_install/lib/cmake/Kokkos\n"
     ]
    }
   ],
   "source": [
    "import os\n",
    "import subprocess\n",
    "\n",
    "KOKKOS_LIB_CMAKE = \"Kokkos_DIR={0}/lib/cmake/Kokkos\".format(os.environ.get(\"KOKKOS_INSTALL_DIR\"))\n",
    "print(KOKKOS_LIB_CMAKE)\n",
    "\n",
    "EXE_NAME = \"micro_aevol_kokkos\""
   ]
  },
  {
   "cell_type": "code",
   "execution_count": 3,
   "metadata": {},
   "outputs": [
    {
     "name": "stdout",
     "output_type": "stream",
     "text": [
      "['aevol_0']\n"
     ]
    }
   ],
   "source": [
    "# parameters\n",
    "\n",
    "experiment_params = {\n",
    "    \"dna_sizes\": [100, 250, 500], # size of DNA\n",
    "    \"mutation_rates\": [0.000001, 0.00001, 0.0001], # mutation rate\n",
    "    \"world_sizes\": [32, 64, 128, 256, 512], # size of the world\n",
    "}\n",
    "\n",
    "# get project names from dirs in ./aevols directory\n",
    "project_names = [d for d in os.listdir(\"./aevols\") if os.path.isdir(os.path.join(\"./aevols\", d))]\n",
    "print(project_names)"
   ]
  },
  {
   "cell_type": "markdown",
   "metadata": {},
   "source": [
    "### Prepare tracing"
   ]
  },
  {
   "cell_type": "code",
   "execution_count": 4,
   "metadata": {},
   "outputs": [],
   "source": [
    "csv_result_file = \"stats.csv\"\n",
    "csv_headers = {\n",
    "    'world_size_width': int,\n",
    "    'world_size_height': int,\n",
    "    'dna_size': int,\n",
    "    'mutation_rate': float,\n",
    "    'nb_generations': int,\n",
    "    'runtime' : float\n",
    "}\n",
    "\n",
    "repeats = 5"
   ]
  },
  {
   "cell_type": "code",
   "execution_count": 48,
   "metadata": {},
   "outputs": [
    {
     "name": "stdout",
     "output_type": "stream",
     "text": [
      "./aevols/aevol_0/stats/ directory already exists\n",
      "removing previous ./aevols/aevol_0/stats/ directory\n",
      "Creating NEW CSV file (./aevols/aevol_0/stats/stats.csv)\n"
     ]
    }
   ],
   "source": [
    "import os\n",
    "import subprocess\n",
    "\n",
    "def create_csv_file(dirpath: str):\n",
    "    filepath = dirpath + csv_result_file\n",
    "    print(f\"Creating NEW CSV file ({filepath})\")\n",
    "    f = open(filepath, \"w\")\n",
    "    f.write(\",\".join(csv_headers.keys()) + \"\\n\")\n",
    "    f.close()\n",
    "\n",
    "def clean_and_mkdir(dirpath: str):\n",
    "    if not os.path.exists(dirpath):\n",
    "        os.makedirs(dirpath)\n",
    "    else:\n",
    "        print(f\"{dirpath} directory already exists\")\n",
    "        print(f\"removing previous {dirpath} directory\")\n",
    "        subprocess.run([\"rm\", \"-rf\", dirpath])\n",
    "        os.makedirs(dirpath)\n",
    "\n",
    "for project_name in project_names:\n",
    "    # create csv file\n",
    "    stats_dir = \"./aevols/\" + project_name + \"/stats/\"\n",
    "    clean_and_mkdir(stats_dir)\n",
    "    create_csv_file(stats_dir)"
   ]
  },
  {
   "cell_type": "markdown",
   "metadata": {},
   "source": [
    "## Compiling & Run executables"
   ]
  },
  {
   "cell_type": "code",
   "execution_count": 49,
   "metadata": {},
   "outputs": [
    {
     "name": "stdout",
     "output_type": "stream",
     "text": [
      "./aevols/aevol_0/build/ directory already exists\n",
      "removing previous ./aevols/aevol_0/build/ directory\n",
      "-- The C compiler identification is GNU 11.3.0\n",
      "-- The CXX compiler identification is GNU 11.3.0\n",
      "-- Detecting C compiler ABI info\n",
      "-- Detecting C compiler ABI info - done\n",
      "-- Check for working C compiler: /usr/bin/cc - skipped\n",
      "-- Detecting C compile features\n",
      "-- Detecting C compile features - done\n",
      "-- Detecting CXX compiler ABI info\n",
      "-- Detecting CXX compiler ABI info - done\n",
      "-- Check for working CXX compiler: /usr/bin/c++ - skipped\n",
      "-- Detecting CXX compile features\n",
      "-- Detecting CXX compile features - done\n",
      "-- Runtime traces are activated\n",
      "-- Found ZLIB: /usr/lib/x86_64-linux-gnu/libz.so (found version \"1.2.11\") \n",
      "-- Enabled Kokkos devices: OPENMP;CUDA;SERIAL\n",
      "-- kokkos_launch_compiler is enabled globally. C++ compiler commands with -DKOKKOS_DEPENDENCE will be redirected to the appropriate compiler for Kokkos\n",
      "-- Configuring done\n",
      "-- Generating done\n",
      "-- Build files have been written to: /home/onyr/Documents/code/OT5_micro-aevol2/src/aevols/aevol_0/build\n",
      "make: Entering directory '/home/onyr/Documents/code/OT5_micro-aevol2/src/aevols/aevol_0/build'\n",
      "make[1]: Entering directory '/home/onyr/Documents/code/OT5_micro-aevol2/src/aevols/aevol_0/build'\n",
      "make[2]: Entering directory '/home/onyr/Documents/code/OT5_micro-aevol2/src/aevols/aevol_0/build'\n",
      "make[2]: Leaving directory '/home/onyr/Documents/code/OT5_micro-aevol2/src/aevols/aevol_0/build'\n",
      "make[2]: Entering directory '/home/onyr/Documents/code/OT5_micro-aevol2/src/aevols/aevol_0/build'\n",
      "[  8%] Building CXX object CMakeFiles/micro_aevol.dir/Abstract_ExpManager.cpp.o\n"
     ]
    },
    {
     "name": "stderr",
     "output_type": "stream",
     "text": [
      "CMAKE_PREFIX_PATH = /home/onyr/Kokkos/kokkos_install:/home/onyr/Kokkos/kokkos_install/lib/CMake/Kokkos:/home/onyr/Kokkos/kokkos_install/lib/cmake/Kokkos\n",
      "CMake Warning at /home/onyr/Kokkos/kokkos_install/lib/cmake/Kokkos/KokkosConfigCommon.cmake:35 (MESSAGE):\n",
      "  The installed Kokkos configuration does not support CXX extensions.\n",
      "  Forcing -DCMAKE_CXX_EXTENSIONS=Off\n",
      "Call Stack (most recent call first):\n",
      "  /home/onyr/Kokkos/kokkos_install/lib/cmake/Kokkos/KokkosConfig.cmake:56 (INCLUDE)\n",
      "  CMakeLists.txt:33 (find_package)\n",
      "\n",
      "\n",
      "Done. micro_aevol_kokkos is ready to be executed.\n"
     ]
    },
    {
     "name": "stdout",
     "output_type": "stream",
     "text": [
      "[ 16%] Building CXX object CMakeFiles/micro_aevol.dir/ExpManager.cpp.o\n",
      "[ 25%] Building CXX object CMakeFiles/micro_aevol.dir/AeTime.cpp.o\n",
      "[ 33%] Building CXX object CMakeFiles/micro_aevol.dir/DnaMutator.cpp.o\n",
      "[ 41%] Building CXX object CMakeFiles/micro_aevol.dir/MutationEvent.cpp.o\n",
      "[ 50%] Building CXX object CMakeFiles/micro_aevol.dir/Organism.cpp.o\n",
      "[ 58%] Building CXX object CMakeFiles/micro_aevol.dir/Stats.cpp.o\n",
      "[ 66%] Building CXX object CMakeFiles/micro_aevol.dir/Threefry.cpp.o\n",
      "[ 75%] Building CXX object CMakeFiles/micro_aevol.dir/Dna.cpp.o\n"
     ]
    },
    {
     "name": "stderr",
     "output_type": "stream",
     "text": [
      "/home/onyr/Documents/code/OT5_micro-aevol2/src/aevols/aevol_0/Dna.cpp(86): warning #177-D: variable \"duplicate_segment\" was declared but never referenced\n",
      "\n",
      "/home/onyr/Documents/code/OT5_micro-aevol2/src/aevols/aevol_0/Dna.cpp(88): warning #177-D: variable \"seg_length\" was declared but never referenced\n",
      "\n"
     ]
    },
    {
     "name": "stdout",
     "output_type": "stream",
     "text": [
      "[ 83%] Linking CXX static library libmicro_aevol.a\n",
      "make[2]: Leaving directory '/home/onyr/Documents/code/OT5_micro-aevol2/src/aevols/aevol_0/build'\n",
      "[ 83%] Built target micro_aevol\n",
      "make[2]: Entering directory '/home/onyr/Documents/code/OT5_micro-aevol2/src/aevols/aevol_0/build'\n",
      "make[2]: Leaving directory '/home/onyr/Documents/code/OT5_micro-aevol2/src/aevols/aevol_0/build'\n",
      "make[2]: Entering directory '/home/onyr/Documents/code/OT5_micro-aevol2/src/aevols/aevol_0/build'\n",
      "[ 91%] Building CXX object CMakeFiles/micro_aevol_kokkos.dir/main.cpp.o\n",
      "[100%] Linking CXX executable micro_aevol_kokkos\n",
      "make[2]: Leaving directory '/home/onyr/Documents/code/OT5_micro-aevol2/src/aevols/aevol_0/build'\n",
      "[100%] Built target micro_aevol_kokkos\n",
      "make[1]: Leaving directory '/home/onyr/Documents/code/OT5_micro-aevol2/src/aevols/aevol_0/build'\n",
      "make: Leaving directory '/home/onyr/Documents/code/OT5_micro-aevol2/src/aevols/aevol_0/build'\n"
     ]
    }
   ],
   "source": [
    "# compile\n",
    "for project_name in project_names:\n",
    "    # create directory build & \n",
    "    # stats, create csv file\n",
    "    build_dir = \"./aevols/\" + project_name + \"/build/\"\n",
    "    clean_and_mkdir(build_dir)\n",
    "    \n",
    "    # run cmake to generate makefiles\n",
    "    subprocess.run([\"cmake\", \"-B\", f\"./aevols/{project_name}/build\", \"-S\", f\"./aevols/{project_name}\", \"-D\", KOKKOS_LIB_CMAKE])\n",
    "\n",
    "    # run make to compile\n",
    "    subprocess.run([\"make\", \"-C\", f\"./aevols/{project_name}/build\"])"
   ]
  },
  {
   "cell_type": "code",
   "execution_count": 50,
   "metadata": {},
   "outputs": [
    {
     "name": "stdout",
     "output_type": "stream",
     "text": [
      "Running aevol_0 with dna_size=500, mutation_rate=0.0001, world_size=32\n",
      "Running aevol_0 with dna_size=500, mutation_rate=0.0001, world_size=64\n",
      "Running aevol_0 with dna_size=500, mutation_rate=0.0001, world_size=128\n",
      "Running aevol_0 with dna_size=500, mutation_rate=0.0001, world_size=256\n",
      "Running aevol_0 with dna_size=500, mutation_rate=0.0001, world_size=1024\n",
      "Running aevol_0 with dna_size=500, mutation_rate=1e-05, world_size=32\n",
      "Running aevol_0 with dna_size=500, mutation_rate=1e-05, world_size=64\n",
      "Running aevol_0 with dna_size=500, mutation_rate=1e-05, world_size=128\n",
      "Running aevol_0 with dna_size=500, mutation_rate=1e-05, world_size=256\n",
      "Running aevol_0 with dna_size=500, mutation_rate=1e-05, world_size=1024\n",
      "Running aevol_0 with dna_size=500, mutation_rate=1e-06, world_size=32\n",
      "Running aevol_0 with dna_size=500, mutation_rate=1e-06, world_size=64\n",
      "Running aevol_0 with dna_size=500, mutation_rate=1e-06, world_size=128\n",
      "Running aevol_0 with dna_size=500, mutation_rate=1e-06, world_size=256\n",
      "Running aevol_0 with dna_size=500, mutation_rate=1e-06, world_size=1024\n",
      "Running aevol_0 with dna_size=5000, mutation_rate=0.0001, world_size=32\n",
      "Running aevol_0 with dna_size=5000, mutation_rate=0.0001, world_size=64\n",
      "Running aevol_0 with dna_size=5000, mutation_rate=0.0001, world_size=128\n",
      "Running aevol_0 with dna_size=5000, mutation_rate=0.0001, world_size=256\n",
      "Running aevol_0 with dna_size=5000, mutation_rate=0.0001, world_size=1024\n"
     ]
    },
    {
     "ename": "KeyboardInterrupt",
     "evalue": "",
     "output_type": "error",
     "traceback": [
      "\u001b[0;31m---------------------------------------------------------------------------\u001b[0m",
      "\u001b[0;31mKeyboardInterrupt\u001b[0m                         Traceback (most recent call last)",
      "Cell \u001b[0;32mIn [50], line 19\u001b[0m\n\u001b[1;32m     12\u001b[0m args \u001b[39m=\u001b[39m (program_filepath, \n\u001b[1;32m     13\u001b[0m     \u001b[39m\"\u001b[39m\u001b[39m-w\u001b[39m\u001b[39m\"\u001b[39m, \u001b[39mstr\u001b[39m(world_size), \n\u001b[1;32m     14\u001b[0m     \u001b[39m\"\u001b[39m\u001b[39m-h\u001b[39m\u001b[39m\"\u001b[39m, \u001b[39mstr\u001b[39m(world_size),\n\u001b[1;32m     15\u001b[0m     \u001b[39m\"\u001b[39m\u001b[39m-g\u001b[39m\u001b[39m\"\u001b[39m, \u001b[39mstr\u001b[39m(dna_size),\n\u001b[1;32m     16\u001b[0m     \u001b[39m\"\u001b[39m\u001b[39m-m\u001b[39m\u001b[39m\"\u001b[39m, \u001b[39mstr\u001b[39m(mutation_rate),\n\u001b[1;32m     17\u001b[0m )\n\u001b[1;32m     18\u001b[0m popen \u001b[39m=\u001b[39m subprocess\u001b[39m.\u001b[39mPopen(args, stdout\u001b[39m=\u001b[39msubprocess\u001b[39m.\u001b[39mPIPE)\n\u001b[0;32m---> 19\u001b[0m popen\u001b[39m.\u001b[39;49mwait()\n\u001b[1;32m     21\u001b[0m \u001b[39m# run once only\u001b[39;00m\n\u001b[1;32m     22\u001b[0m \u001b[39mif\u001b[39;00m run_once:\n",
      "File \u001b[0;32m~/anaconda3/envs/aevol/lib/python3.10/subprocess.py:1207\u001b[0m, in \u001b[0;36mPopen.wait\u001b[0;34m(self, timeout)\u001b[0m\n\u001b[1;32m   1205\u001b[0m     endtime \u001b[39m=\u001b[39m _time() \u001b[39m+\u001b[39m timeout\n\u001b[1;32m   1206\u001b[0m \u001b[39mtry\u001b[39;00m:\n\u001b[0;32m-> 1207\u001b[0m     \u001b[39mreturn\u001b[39;00m \u001b[39mself\u001b[39;49m\u001b[39m.\u001b[39;49m_wait(timeout\u001b[39m=\u001b[39;49mtimeout)\n\u001b[1;32m   1208\u001b[0m \u001b[39mexcept\u001b[39;00m \u001b[39mKeyboardInterrupt\u001b[39;00m:\n\u001b[1;32m   1209\u001b[0m     \u001b[39m# https://bugs.python.org/issue25942\u001b[39;00m\n\u001b[1;32m   1210\u001b[0m     \u001b[39m# The first keyboard interrupt waits briefly for the child to\u001b[39;00m\n\u001b[1;32m   1211\u001b[0m     \u001b[39m# exit under the common assumption that it also received the ^C\u001b[39;00m\n\u001b[1;32m   1212\u001b[0m     \u001b[39m# generated SIGINT and will exit rapidly.\u001b[39;00m\n\u001b[1;32m   1213\u001b[0m     \u001b[39mif\u001b[39;00m timeout \u001b[39mis\u001b[39;00m \u001b[39mnot\u001b[39;00m \u001b[39mNone\u001b[39;00m:\n",
      "File \u001b[0;32m~/anaconda3/envs/aevol/lib/python3.10/subprocess.py:1941\u001b[0m, in \u001b[0;36mPopen._wait\u001b[0;34m(self, timeout)\u001b[0m\n\u001b[1;32m   1939\u001b[0m \u001b[39mif\u001b[39;00m \u001b[39mself\u001b[39m\u001b[39m.\u001b[39mreturncode \u001b[39mis\u001b[39;00m \u001b[39mnot\u001b[39;00m \u001b[39mNone\u001b[39;00m:\n\u001b[1;32m   1940\u001b[0m     \u001b[39mbreak\u001b[39;00m  \u001b[39m# Another thread waited.\u001b[39;00m\n\u001b[0;32m-> 1941\u001b[0m (pid, sts) \u001b[39m=\u001b[39m \u001b[39mself\u001b[39;49m\u001b[39m.\u001b[39;49m_try_wait(\u001b[39m0\u001b[39;49m)\n\u001b[1;32m   1942\u001b[0m \u001b[39m# Check the pid and loop as waitpid has been known to\u001b[39;00m\n\u001b[1;32m   1943\u001b[0m \u001b[39m# return 0 even without WNOHANG in odd situations.\u001b[39;00m\n\u001b[1;32m   1944\u001b[0m \u001b[39m# http://bugs.python.org/issue14396.\u001b[39;00m\n\u001b[1;32m   1945\u001b[0m \u001b[39mif\u001b[39;00m pid \u001b[39m==\u001b[39m \u001b[39mself\u001b[39m\u001b[39m.\u001b[39mpid:\n",
      "File \u001b[0;32m~/anaconda3/envs/aevol/lib/python3.10/subprocess.py:1899\u001b[0m, in \u001b[0;36mPopen._try_wait\u001b[0;34m(self, wait_flags)\u001b[0m\n\u001b[1;32m   1897\u001b[0m \u001b[39m\"\"\"All callers to this function MUST hold self._waitpid_lock.\"\"\"\u001b[39;00m\n\u001b[1;32m   1898\u001b[0m \u001b[39mtry\u001b[39;00m:\n\u001b[0;32m-> 1899\u001b[0m     (pid, sts) \u001b[39m=\u001b[39m os\u001b[39m.\u001b[39;49mwaitpid(\u001b[39mself\u001b[39;49m\u001b[39m.\u001b[39;49mpid, wait_flags)\n\u001b[1;32m   1900\u001b[0m \u001b[39mexcept\u001b[39;00m \u001b[39mChildProcessError\u001b[39;00m:\n\u001b[1;32m   1901\u001b[0m     \u001b[39m# This happens if SIGCLD is set to be ignored or waiting\u001b[39;00m\n\u001b[1;32m   1902\u001b[0m     \u001b[39m# for child processes has otherwise been disabled for our\u001b[39;00m\n\u001b[1;32m   1903\u001b[0m     \u001b[39m# process.  This child is dead, we can't get the status.\u001b[39;00m\n\u001b[1;32m   1904\u001b[0m     pid \u001b[39m=\u001b[39m \u001b[39mself\u001b[39m\u001b[39m.\u001b[39mpid\n",
      "\u001b[0;31mKeyboardInterrupt\u001b[0m: "
     ]
    }
   ],
   "source": [
    "# execute\n",
    "run_once = False\n",
    "for project_name in project_names:\n",
    "    for dna_size in experiment_params[\"dna_sizes\"]:\n",
    "        for mutation_rate in experiment_params[\"mutation_rates\"]:\n",
    "            for world_size in experiment_params[\"world_sizes\"]:\n",
    "                print(\"Running {} with dna_size={}, mutation_rate={}, world_size={}\".format(project_name, dna_size, mutation_rate, world_size))\n",
    "                \n",
    "                # run the executable\n",
    "                current_dir = os.getcwd()\n",
    "                program_filepath = current_dir + \"/aevols/\" + project_name + \"/build/\" + EXE_NAME\n",
    "                args = (program_filepath, \n",
    "                    \"-w\", str(world_size), \n",
    "                    \"-h\", str(world_size),\n",
    "                    \"-g\", str(dna_size),\n",
    "                    \"-m\", str(mutation_rate),\n",
    "                )\n",
    "                popen = subprocess.Popen(args, stdout=subprocess.PIPE)\n",
    "                popen.wait()\n",
    "\n",
    "                # run once only\n",
    "                if run_once:\n",
    "                    break\n",
    "            if run_once:\n",
    "                break\n",
    "        if run_once:\n",
    "            break\n",
    "    if run_once:\n",
    "        break"
   ]
  },
  {
   "cell_type": "markdown",
   "metadata": {},
   "source": [
    "# Graphs & Analysis"
   ]
  },
  {
   "cell_type": "code",
   "execution_count": 11,
   "metadata": {},
   "outputs": [
    {
     "name": "stderr",
     "output_type": "stream",
     "text": [
      "/tmp/ipykernel_30185/3581989233.py:14: FutureWarning: The frame.append method is deprecated and will be removed from pandas in a future version. Use pandas.concat instead.\n",
      "  df = df.append(df)\n"
     ]
    },
    {
     "data": {
      "text/html": [
       "<div>\n",
       "<style scoped>\n",
       "    .dataframe tbody tr th:only-of-type {\n",
       "        vertical-align: middle;\n",
       "    }\n",
       "\n",
       "    .dataframe tbody tr th {\n",
       "        vertical-align: top;\n",
       "    }\n",
       "\n",
       "    .dataframe thead th {\n",
       "        text-align: right;\n",
       "    }\n",
       "</style>\n",
       "<table border=\"1\" class=\"dataframe\">\n",
       "  <thead>\n",
       "    <tr style=\"text-align: right;\">\n",
       "      <th></th>\n",
       "      <th>world_size_width</th>\n",
       "      <th>world_size_height</th>\n",
       "      <th>dna_size</th>\n",
       "      <th>mutation_rate</th>\n",
       "      <th>nb_generations</th>\n",
       "      <th>runtime</th>\n",
       "      <th>version</th>\n",
       "    </tr>\n",
       "  </thead>\n",
       "  <tbody>\n",
       "    <tr>\n",
       "      <th>0</th>\n",
       "      <td>32</td>\n",
       "      <td>32</td>\n",
       "      <td>500</td>\n",
       "      <td>0.0001</td>\n",
       "      <td>1000</td>\n",
       "      <td>1.505624</td>\n",
       "      <td>aevol_0</td>\n",
       "    </tr>\n",
       "    <tr>\n",
       "      <th>1</th>\n",
       "      <td>64</td>\n",
       "      <td>64</td>\n",
       "      <td>500</td>\n",
       "      <td>0.0001</td>\n",
       "      <td>1000</td>\n",
       "      <td>6.568119</td>\n",
       "      <td>aevol_0</td>\n",
       "    </tr>\n",
       "    <tr>\n",
       "      <th>2</th>\n",
       "      <td>128</td>\n",
       "      <td>128</td>\n",
       "      <td>500</td>\n",
       "      <td>0.0001</td>\n",
       "      <td>1000</td>\n",
       "      <td>30.343228</td>\n",
       "      <td>aevol_0</td>\n",
       "    </tr>\n",
       "    <tr>\n",
       "      <th>3</th>\n",
       "      <td>256</td>\n",
       "      <td>256</td>\n",
       "      <td>500</td>\n",
       "      <td>0.0001</td>\n",
       "      <td>1000</td>\n",
       "      <td>126.530802</td>\n",
       "      <td>aevol_0</td>\n",
       "    </tr>\n",
       "    <tr>\n",
       "      <th>4</th>\n",
       "      <td>1024</td>\n",
       "      <td>1024</td>\n",
       "      <td>500</td>\n",
       "      <td>0.0001</td>\n",
       "      <td>1000</td>\n",
       "      <td>2163.977339</td>\n",
       "      <td>aevol_0</td>\n",
       "    </tr>\n",
       "  </tbody>\n",
       "</table>\n",
       "</div>"
      ],
      "text/plain": [
       "   world_size_width  world_size_height  dna_size  mutation_rate  \\\n",
       "0                32                 32       500         0.0001   \n",
       "1                64                 64       500         0.0001   \n",
       "2               128                128       500         0.0001   \n",
       "3               256                256       500         0.0001   \n",
       "4              1024               1024       500         0.0001   \n",
       "\n",
       "   nb_generations      runtime  version  \n",
       "0            1000     1.505624  aevol_0  \n",
       "1            1000     6.568119  aevol_0  \n",
       "2            1000    30.343228  aevol_0  \n",
       "3            1000   126.530802  aevol_0  \n",
       "4            1000  2163.977339  aevol_0  "
      ]
     },
     "metadata": {},
     "output_type": "display_data"
    }
   ],
   "source": [
    "# get the data from aevol/*/stats/stats.csv\n",
    "import pandas as pd\n",
    "from IPython.display import display\n",
    "\n",
    "df = pd.DataFrame()\n",
    "for project_name in project_names:\n",
    "    stats_dir = \"./aevols/\" + project_name + \"/stats/\"\n",
    "\n",
    "    # add a version column with project_name\n",
    "    df = pd.read_csv(stats_dir + csv_result_file)\n",
    "    df[\"version\"] = project_name\n",
    "\n",
    "    # append to data\n",
    "    df = df.append(df)\n",
    "\n",
    "display(df.head())"
   ]
  },
  {
   "cell_type": "code",
   "execution_count": 13,
   "metadata": {},
   "outputs": [
    {
     "name": "stdout",
     "output_type": "stream",
     "text": [
      "{'aevol_0': (0.2980392156862745, 0.4470588235294118, 0.6901960784313725)}\n"
     ]
    },
    {
     "name": "stderr",
     "output_type": "stream",
     "text": [
      "/tmp/ipykernel_30185/4066137155.py:49: UserWarning: Ignoring `palette` because no `hue` variable has been assigned.\n",
      "  g0 = sns.lineplot(\n"
     ]
    },
    {
     "ename": "ValueError",
     "evalue": "'log2' is not a valid value for scale; supported values are 'linear', 'log', 'symlog', 'asinh', 'logit', 'function', 'functionlog'",
     "output_type": "error",
     "traceback": [
      "\u001b[0;31m---------------------------------------------------------------------------\u001b[0m",
      "\u001b[0;31mValueError\u001b[0m                                Traceback (most recent call last)",
      "Cell \u001b[0;32mIn [13], line 79\u001b[0m\n\u001b[1;32m     74\u001b[0m                 g00\u001b[39m.\u001b[39mset(xscale\u001b[39m=\u001b[39m\u001b[39m\"\u001b[39m\u001b[39mlog2\u001b[39m\u001b[39m\"\u001b[39m)\n\u001b[1;32m     76\u001b[0m     plt\u001b[39m.\u001b[39mshow()\n\u001b[0;32m---> 79\u001b[0m display_graph(df)\n",
      "Cell \u001b[0;32mIn [13], line 60\u001b[0m, in \u001b[0;36mdisplay_graph\u001b[0;34m(df)\u001b[0m\n\u001b[1;32m     58\u001b[0m g0\u001b[39m.\u001b[39mset(ylim\u001b[39m=\u001b[39m(df\u001b[39m.\u001b[39mruntime\u001b[39m.\u001b[39mmin(), df\u001b[39m.\u001b[39mruntime\u001b[39m.\u001b[39mmax()))\n\u001b[1;32m     59\u001b[0m g0\u001b[39m.\u001b[39mset(yscale\u001b[39m=\u001b[39m\u001b[39m\"\u001b[39m\u001b[39mlog\u001b[39m\u001b[39m\"\u001b[39m)\n\u001b[0;32m---> 60\u001b[0m g0\u001b[39m.\u001b[39;49mset(xscale\u001b[39m=\u001b[39;49m\u001b[39m\"\u001b[39;49m\u001b[39mlog2\u001b[39;49m\u001b[39m\"\u001b[39;49m)\n\u001b[1;32m     61\u001b[0m g0\u001b[39m.\u001b[39mset(title\u001b[39m=\u001b[39m\u001b[39mf\u001b[39m\u001b[39m\"\u001b[39m\u001b[39mdna_size=\u001b[39m\u001b[39m{\u001b[39;00mdna_size\u001b[39m}\u001b[39;00m\u001b[39m, mutation_rate=\u001b[39m\u001b[39m{\u001b[39;00mmutation_rate\u001b[39m}\u001b[39;00m\u001b[39m\"\u001b[39m)\n\u001b[1;32m     62\u001b[0m g0\u001b[39m.\u001b[39mset(xlabel\u001b[39m=\u001b[39m\u001b[39m\"\u001b[39m\u001b[39mWorld size\u001b[39m\u001b[39m\"\u001b[39m, ylabel\u001b[39m=\u001b[39m\u001b[39m\"\u001b[39m\u001b[39mruntime (s)\u001b[39m\u001b[39m\"\u001b[39m)\n",
      "File \u001b[0;32m~/anaconda3/envs/aevol/lib/python3.10/site-packages/matplotlib/artist.py:117\u001b[0m, in \u001b[0;36mArtist.__init_subclass__.<locals>.<lambda>\u001b[0;34m(self, **kwargs)\u001b[0m\n\u001b[1;32m    109\u001b[0m \u001b[39mif\u001b[39;00m \u001b[39mnot\u001b[39;00m \u001b[39mhasattr\u001b[39m(\u001b[39mcls\u001b[39m\u001b[39m.\u001b[39mset, \u001b[39m'\u001b[39m\u001b[39m_autogenerated_signature\u001b[39m\u001b[39m'\u001b[39m):\n\u001b[1;32m    110\u001b[0m     \u001b[39m# Don't overwrite cls.set if the subclass or one of its parents\u001b[39;00m\n\u001b[1;32m    111\u001b[0m     \u001b[39m# has defined a set method set itself.\u001b[39;00m\n\u001b[1;32m    112\u001b[0m     \u001b[39m# If there was no explicit definition, cls.set is inherited from\u001b[39;00m\n\u001b[1;32m    113\u001b[0m     \u001b[39m# the hierarchy of auto-generated set methods, which hold the\u001b[39;00m\n\u001b[1;32m    114\u001b[0m     \u001b[39m# flag _autogenerated_signature.\u001b[39;00m\n\u001b[1;32m    115\u001b[0m     \u001b[39mreturn\u001b[39;00m\n\u001b[0;32m--> 117\u001b[0m \u001b[39mcls\u001b[39m\u001b[39m.\u001b[39mset \u001b[39m=\u001b[39m \u001b[39mlambda\u001b[39;00m \u001b[39mself\u001b[39m, \u001b[39m*\u001b[39m\u001b[39m*\u001b[39mkwargs: Artist\u001b[39m.\u001b[39;49mset(\u001b[39mself\u001b[39;49m, \u001b[39m*\u001b[39;49m\u001b[39m*\u001b[39;49mkwargs)\n\u001b[1;32m    118\u001b[0m \u001b[39mcls\u001b[39m\u001b[39m.\u001b[39mset\u001b[39m.\u001b[39m\u001b[39m__name__\u001b[39m \u001b[39m=\u001b[39m \u001b[39m\"\u001b[39m\u001b[39mset\u001b[39m\u001b[39m\"\u001b[39m\n\u001b[1;32m    119\u001b[0m \u001b[39mcls\u001b[39m\u001b[39m.\u001b[39mset\u001b[39m.\u001b[39m\u001b[39m__qualname__\u001b[39m \u001b[39m=\u001b[39m \u001b[39mf\u001b[39m\u001b[39m\"\u001b[39m\u001b[39m{\u001b[39;00m\u001b[39mcls\u001b[39m\u001b[39m.\u001b[39m\u001b[39m__qualname__\u001b[39m\u001b[39m}\u001b[39;00m\u001b[39m.set\u001b[39m\u001b[39m\"\u001b[39m\n",
      "File \u001b[0;32m~/anaconda3/envs/aevol/lib/python3.10/site-packages/matplotlib/artist.py:1194\u001b[0m, in \u001b[0;36mArtist.set\u001b[0;34m(self, **kwargs)\u001b[0m\n\u001b[1;32m   1190\u001b[0m \u001b[39mdef\u001b[39;00m \u001b[39mset\u001b[39m(\u001b[39mself\u001b[39m, \u001b[39m*\u001b[39m\u001b[39m*\u001b[39mkwargs):\n\u001b[1;32m   1191\u001b[0m     \u001b[39m# docstring and signature are auto-generated via\u001b[39;00m\n\u001b[1;32m   1192\u001b[0m     \u001b[39m# Artist._update_set_signature_and_docstring() at the end of the\u001b[39;00m\n\u001b[1;32m   1193\u001b[0m     \u001b[39m# module.\u001b[39;00m\n\u001b[0;32m-> 1194\u001b[0m     \u001b[39mreturn\u001b[39;00m \u001b[39mself\u001b[39;49m\u001b[39m.\u001b[39;49m_internal_update(cbook\u001b[39m.\u001b[39;49mnormalize_kwargs(kwargs, \u001b[39mself\u001b[39;49m))\n",
      "File \u001b[0;32m~/anaconda3/envs/aevol/lib/python3.10/site-packages/matplotlib/artist.py:1186\u001b[0m, in \u001b[0;36mArtist._internal_update\u001b[0;34m(self, kwargs)\u001b[0m\n\u001b[1;32m   1179\u001b[0m \u001b[39mdef\u001b[39;00m \u001b[39m_internal_update\u001b[39m(\u001b[39mself\u001b[39m, kwargs):\n\u001b[1;32m   1180\u001b[0m     \u001b[39m\"\"\"\u001b[39;00m\n\u001b[1;32m   1181\u001b[0m \u001b[39m    Update artist properties without prenormalizing them, but generating\u001b[39;00m\n\u001b[1;32m   1182\u001b[0m \u001b[39m    errors as if calling `set`.\u001b[39;00m\n\u001b[1;32m   1183\u001b[0m \n\u001b[1;32m   1184\u001b[0m \u001b[39m    The lack of prenormalization is to maintain backcompatibility.\u001b[39;00m\n\u001b[1;32m   1185\u001b[0m \u001b[39m    \"\"\"\u001b[39;00m\n\u001b[0;32m-> 1186\u001b[0m     \u001b[39mreturn\u001b[39;00m \u001b[39mself\u001b[39;49m\u001b[39m.\u001b[39;49m_update_props(\n\u001b[1;32m   1187\u001b[0m         kwargs, \u001b[39m\"\u001b[39;49m\u001b[39m{cls.__name__}\u001b[39;49;00m\u001b[39m.set() got an unexpected keyword argument \u001b[39;49m\u001b[39m\"\u001b[39;49m\n\u001b[1;32m   1188\u001b[0m         \u001b[39m\"\u001b[39;49m\u001b[39m{prop_name!r}\u001b[39;49;00m\u001b[39m\"\u001b[39;49m)\n",
      "File \u001b[0;32m~/anaconda3/envs/aevol/lib/python3.10/site-packages/matplotlib/artist.py:1162\u001b[0m, in \u001b[0;36mArtist._update_props\u001b[0;34m(self, props, errfmt)\u001b[0m\n\u001b[1;32m   1159\u001b[0m             \u001b[39mif\u001b[39;00m \u001b[39mnot\u001b[39;00m callable(func):\n\u001b[1;32m   1160\u001b[0m                 \u001b[39mraise\u001b[39;00m \u001b[39mAttributeError\u001b[39;00m(\n\u001b[1;32m   1161\u001b[0m                     errfmt\u001b[39m.\u001b[39mformat(\u001b[39mcls\u001b[39m\u001b[39m=\u001b[39m\u001b[39mtype\u001b[39m(\u001b[39mself\u001b[39m), prop_name\u001b[39m=\u001b[39mk))\n\u001b[0;32m-> 1162\u001b[0m             ret\u001b[39m.\u001b[39mappend(func(v))\n\u001b[1;32m   1163\u001b[0m \u001b[39mif\u001b[39;00m ret:\n\u001b[1;32m   1164\u001b[0m     \u001b[39mself\u001b[39m\u001b[39m.\u001b[39mpchanged()\n",
      "File \u001b[0;32m~/anaconda3/envs/aevol/lib/python3.10/site-packages/matplotlib/axes/_base.py:73\u001b[0m, in \u001b[0;36m_axis_method_wrapper.__set_name__.<locals>.wrapper\u001b[0;34m(self, *args, **kwargs)\u001b[0m\n\u001b[1;32m     72\u001b[0m \u001b[39mdef\u001b[39;00m \u001b[39mwrapper\u001b[39m(\u001b[39mself\u001b[39m, \u001b[39m*\u001b[39margs, \u001b[39m*\u001b[39m\u001b[39m*\u001b[39mkwargs):\n\u001b[0;32m---> 73\u001b[0m     \u001b[39mreturn\u001b[39;00m get_method(\u001b[39mself\u001b[39;49m)(\u001b[39m*\u001b[39;49margs, \u001b[39m*\u001b[39;49m\u001b[39m*\u001b[39;49mkwargs)\n",
      "File \u001b[0;32m~/anaconda3/envs/aevol/lib/python3.10/site-packages/matplotlib/axis.py:816\u001b[0m, in \u001b[0;36mAxis._set_axes_scale\u001b[0;34m(self, value, **kwargs)\u001b[0m\n\u001b[1;32m    814\u001b[0m g \u001b[39m=\u001b[39m \u001b[39mself\u001b[39m\u001b[39m.\u001b[39maxes\u001b[39m.\u001b[39m_shared_axes[name]\n\u001b[1;32m    815\u001b[0m \u001b[39mfor\u001b[39;00m ax \u001b[39min\u001b[39;00m g\u001b[39m.\u001b[39mget_siblings(\u001b[39mself\u001b[39m\u001b[39m.\u001b[39maxes):\n\u001b[0;32m--> 816\u001b[0m     ax\u001b[39m.\u001b[39;49m_axis_map[name]\u001b[39m.\u001b[39;49m_set_scale(value, \u001b[39m*\u001b[39;49m\u001b[39m*\u001b[39;49mkwargs)\n\u001b[1;32m    817\u001b[0m     ax\u001b[39m.\u001b[39m_update_transScale()\n\u001b[1;32m    818\u001b[0m     ax\u001b[39m.\u001b[39mstale \u001b[39m=\u001b[39m \u001b[39mTrue\u001b[39;00m\n",
      "File \u001b[0;32m~/anaconda3/envs/aevol/lib/python3.10/site-packages/matplotlib/axis.py:773\u001b[0m, in \u001b[0;36mAxis._set_scale\u001b[0;34m(self, value, **kwargs)\u001b[0m\n\u001b[1;32m    771\u001b[0m \u001b[39mdef\u001b[39;00m \u001b[39m_set_scale\u001b[39m(\u001b[39mself\u001b[39m, value, \u001b[39m*\u001b[39m\u001b[39m*\u001b[39mkwargs):\n\u001b[1;32m    772\u001b[0m     \u001b[39mif\u001b[39;00m \u001b[39mnot\u001b[39;00m \u001b[39misinstance\u001b[39m(value, mscale\u001b[39m.\u001b[39mScaleBase):\n\u001b[0;32m--> 773\u001b[0m         \u001b[39mself\u001b[39m\u001b[39m.\u001b[39m_scale \u001b[39m=\u001b[39m mscale\u001b[39m.\u001b[39;49mscale_factory(value, \u001b[39mself\u001b[39;49m, \u001b[39m*\u001b[39;49m\u001b[39m*\u001b[39;49mkwargs)\n\u001b[1;32m    774\u001b[0m     \u001b[39melse\u001b[39;00m:\n\u001b[1;32m    775\u001b[0m         \u001b[39mself\u001b[39m\u001b[39m.\u001b[39m_scale \u001b[39m=\u001b[39m value\n",
      "File \u001b[0;32m~/anaconda3/envs/aevol/lib/python3.10/site-packages/matplotlib/scale.py:713\u001b[0m, in \u001b[0;36mscale_factory\u001b[0;34m(scale, axis, **kwargs)\u001b[0m\n\u001b[1;32m    709\u001b[0m     _api\u001b[39m.\u001b[39mwarn_deprecated(\n\u001b[1;32m    710\u001b[0m         \u001b[39m\"\u001b[39m\u001b[39m3.5\u001b[39m\u001b[39m\"\u001b[39m, message\u001b[39m=\u001b[39m\u001b[39m\"\u001b[39m\u001b[39mSupport for case-insensitive scales is deprecated \u001b[39m\u001b[39m\"\u001b[39m\n\u001b[1;32m    711\u001b[0m         \u001b[39m\"\u001b[39m\u001b[39msince \u001b[39m\u001b[39m%(since)s\u001b[39;00m\u001b[39m and support will be removed \u001b[39m\u001b[39m%(removal)s\u001b[39;00m\u001b[39m.\u001b[39m\u001b[39m\"\u001b[39m)\n\u001b[1;32m    712\u001b[0m     scale \u001b[39m=\u001b[39m scale\u001b[39m.\u001b[39mlower()\n\u001b[0;32m--> 713\u001b[0m scale_cls \u001b[39m=\u001b[39m _api\u001b[39m.\u001b[39;49mcheck_getitem(_scale_mapping, scale\u001b[39m=\u001b[39;49mscale)\n\u001b[1;32m    714\u001b[0m \u001b[39mreturn\u001b[39;00m scale_cls(axis, \u001b[39m*\u001b[39m\u001b[39m*\u001b[39mkwargs)\n",
      "File \u001b[0;32m~/anaconda3/envs/aevol/lib/python3.10/site-packages/matplotlib/_api/__init__.py:190\u001b[0m, in \u001b[0;36mcheck_getitem\u001b[0;34m(_mapping, **kwargs)\u001b[0m\n\u001b[1;32m    188\u001b[0m     \u001b[39mreturn\u001b[39;00m mapping[v]\n\u001b[1;32m    189\u001b[0m \u001b[39mexcept\u001b[39;00m \u001b[39mKeyError\u001b[39;00m:\n\u001b[0;32m--> 190\u001b[0m     \u001b[39mraise\u001b[39;00m \u001b[39mValueError\u001b[39;00m(\n\u001b[1;32m    191\u001b[0m         \u001b[39m\"\u001b[39m\u001b[39m{!r}\u001b[39;00m\u001b[39m is not a valid value for \u001b[39m\u001b[39m{}\u001b[39;00m\u001b[39m; supported values are \u001b[39m\u001b[39m{}\u001b[39;00m\u001b[39m\"\u001b[39m\n\u001b[1;32m    192\u001b[0m         \u001b[39m.\u001b[39mformat(v, k, \u001b[39m'\u001b[39m\u001b[39m, \u001b[39m\u001b[39m'\u001b[39m\u001b[39m.\u001b[39mjoin(\u001b[39mmap\u001b[39m(\u001b[39mrepr\u001b[39m, mapping)))) \u001b[39mfrom\u001b[39;00m \u001b[39mNone\u001b[39m\n",
      "\u001b[0;31mValueError\u001b[0m: 'log2' is not a valid value for scale; supported values are 'linear', 'log', 'symlog', 'asinh', 'logit', 'function', 'functionlog'"
     ]
    },
    {
     "data": {
      "image/png": "[encoded data removed]",
      "text/plain": [
       "<Figure size 1800x1600 with 9 Axes>"
      ]
     },
     "metadata": {},
     "output_type": "display_data"
    }
   ],
   "source": [
    "# plot the data\n",
    "import matplotlib.pyplot as plt\n",
    "import numpy as np\n",
    "from IPython.display import display\n",
    "from numpy import genfromtxt\n",
    "import itertools\n",
    "import pandas as pd\n",
    "import seaborn as sns\n",
    "\n",
    "sns.set()\n",
    "\n",
    "# filter out 0 runtime values\n",
    "df = df[df.runtime > 0]\n",
    "\n",
    "# create a palette for every version\n",
    "palette = itertools.cycle(sns.color_palette(\n",
    "    n_colors=len(project_names),\n",
    "))\n",
    "version_palette = {}\n",
    "for project_name in project_names:\n",
    "    version_palette[project_name] = next(palette)\n",
    "print(version_palette)\n",
    "\n",
    "\n",
    "# display the graph\n",
    "def display_graph(df: pd.DataFrame):\n",
    "    COLUMNS = len(experiment_params[\"dna_sizes\"])\n",
    "    ROWS = len(experiment_params[\"mutation_rates\"])\n",
    "\n",
    "    # display graphs\n",
    "    fig, ax = plt.subplots(COLUMNS, ROWS, figsize=(18,16))\n",
    "    fig.suptitle(\"Superposed Graphs of Matrix-Vector operation computing, for different program versions\")\n",
    "\n",
    "    for i in range(ROWS):\n",
    "        dna_size = experiment_params[\"dna_sizes\"][i]\n",
    "\n",
    "        for j in range(COLUMNS):\n",
    "            mutation_rate = experiment_params[\"mutation_rates\"][j]\n",
    "\n",
    "            for k in range(0, len(version_palette.keys())):\n",
    "                # print version graph data\n",
    "                graph_version = list(version_palette.keys())[k]\n",
    "                \n",
    "                # filter out data\n",
    "                df_plot_0 = df[df['version'] == graph_version]\n",
    "                df_plot_1 = df_plot_0[df_plot_0['dna_size'] == dna_size]\n",
    "                df_plot_2 = df_plot_1[df_plot_1['mutation_rate'] == mutation_rate]\n",
    "                \n",
    "                g0 = sns.lineplot(\n",
    "                    ax=ax[i][j],\n",
    "                    data=df_plot_2, \n",
    "                    x=\"world_size_width\",\n",
    "                    y=\"runtime\", \n",
    "                    hue=\"version\",\n",
    "                    palette=version_palette,\n",
    "                    style=\"version\",\n",
    "                )\n",
    "                g0.set(ylim=(df.runtime.min(), df.runtime.max()))\n",
    "                g0.set(yscale=\"log\")\n",
    "                g0.set(title=f\"dna_size={dna_size}, mutation_rate={mutation_rate}\")\n",
    "                g0.set(xlabel=\"World size\", ylabel=\"runtime (s)\")\n",
    "                g00 = sns.scatterplot(\n",
    "                    ax=ax[i][j],\n",
    "                    data=df_plot_2, \n",
    "                    x=\"world_size_width\",\n",
    "                    y=\"runtime\", \n",
    "                    hue=\"version\",\n",
    "                    palette=version_palette,\n",
    "                    legend=False,\n",
    "                )\n",
    "                g00.set(ylim=(df.runtime.min(), df.runtime.max()))\n",
    "                g00.set(yscale=\"log\")\n",
    "        \n",
    "    plt.show()\n",
    "\n",
    "\n",
    "display_graph(df)"
   ]
  }
 ],
 "metadata": {
  "kernelspec": {
   "display_name": "Python 3.10.6 ('aevol')",
   "language": "python",
   "name": "python3"
  },
  "language_info": {
   "codemirror_mode": {
    "name": "ipython",
    "version": 3
   },
   "file_extension": ".py",
   "mimetype": "text/x-python",
   "name": "python",
   "nbconvert_exporter": "python",
   "pygments_lexer": "ipython3",
   "version": "3.10.6"
  },
  "orig_nbformat": 4,
  "vscode": {
   "interpreter": {
    "hash": "f8ea3645522cf11f29217899e2a80e6ee020ee43b42396f8b0082f79c660ad30"
   }
  }
 },
 "nbformat": 4,
 "nbformat_minor": 2
}
